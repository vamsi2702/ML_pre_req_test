{
  "cells": [
    {
      "cell_type": "markdown",
      "id": "321ecb89-5d8e-4628-9f8f-cccdb03659bd",
      "metadata": {
        "id": "321ecb89-5d8e-4628-9f8f-cccdb03659bd"
      },
      "source": [
        "# Solutions for Prerequisite exam"
      ]
    },
    {
      "cell_type": "markdown",
      "id": "bc7b09d0-a38f-449b-b9f5-e2f1d0a559ed",
      "metadata": {
        "id": "bc7b09d0-a38f-449b-b9f5-e2f1d0a559ed"
      },
      "source": [
        "**Q1:** When multiplying two matrices of dimensions (n, k) and (k, m), the total number of multiplications required is n x k x m, and the total number of additions required is n x (k-1) x m.\n",
        "\n",
        "To understand this, consider the process of calculating the (i, j)th element in the resulting matrix. This element is obtained by taking the dot product of the ith row of the first matrix and the jth column of the second matrix. For each element in the resulting matrix, we perform \\( k \\) multiplications (one for each pair of elements from the row and column) and \\( k-1 \\) additions (to sum the products).\n",
        "\n",
        "Since there are \\( n \\) rows in the first matrix and \\( m \\) columns in the second matrix, we repeat this process for each of the \\( n x m \\) elements in the resulting matrix. Thus, in total, we perform n x k x m multiplications and n x (k-1) x m additions."
      ]
    },
    {
      "cell_type": "markdown",
      "id": "eab2de70-b7a8-4cca-8184-3263afc05a7d",
      "metadata": {
        "id": "eab2de70-b7a8-4cca-8184-3263afc05a7d"
      },
      "source": [
        "**Q2:**"
      ]
    },
    {
      "cell_type": "code",
      "execution_count": 1,
      "id": "5cb51140-fe11-4bc8-b70d-0a2a9567b21c",
      "metadata": {
        "scrolled": true,
        "colab": {
          "base_uri": "https://localhost:8080/"
        },
        "id": "5cb51140-fe11-4bc8-b70d-0a2a9567b21c",
        "outputId": "f98a73bc-0a0e-431f-b511-25666fb40d3c"
      },
      "outputs": [
        {
          "output_type": "stream",
          "name": "stdout",
          "text": [
            "Enter the number of rows for Matrix 1: 2\n",
            "Enter the number of columns for Matrix 1 (and rows for Matrix 2): 3\n",
            "Enter the number of columns for Matrix 2: 4\n",
            "Enter row 1 of Matrix 1: 1,2,3\n",
            "Enter row 2 of Matrix 1: 4,5,6\n",
            "Enter row 1 of Matrix 2: 1,2,3,4\n",
            "Enter row 2 of Matrix 2: 4,5,6,7\n",
            "Enter row 3 of Matrix 2: 7,8,9,10\n",
            "Matrix 1:\n",
            "[1, 2, 3]\n",
            "[4, 5, 6]\n",
            "Matrix 2:\n",
            "[1, 2, 3, 4]\n",
            "[4, 5, 6, 7]\n",
            "[7, 8, 9, 10]\n",
            "Resultant Matrix (Manual Multiplication):\n",
            "[30, 36, 42, 48]\n",
            "[66, 81, 96, 111]\n",
            "Execution time (manual multiplication): 0.0002753734588623047 seconds\n",
            "Resultant Matrix (NumPy Multiplication):\n",
            "[[ 30  36  42  48]\n",
            " [ 66  81  96 111]]\n",
            "Execution time (NumPy multiplication): 9.965896606445312e-05 seconds\n"
          ]
        }
      ],
      "source": [
        "import time as t\n",
        "import numpy as np\n",
        "\n",
        "n = int(input(\"Enter the number of rows for Matrix 1: \"))\n",
        "k = int(input(\"Enter the number of columns for Matrix 1 (and rows for Matrix 2): \"))\n",
        "m = int(input(\"Enter the number of columns for Matrix 2: \"))\n",
        "\n",
        "matrix1 = []\n",
        "for i in range(n):\n",
        "    row = list(eval(input(f\"Enter row {i+1} of Matrix 1: \")))\n",
        "    matrix1.append(row)\n",
        "\n",
        "matrix2 = []\n",
        "for i in range(k):\n",
        "    row = list(eval(input(f\"Enter row {i+1} of Matrix 2: \")))\n",
        "    matrix2.append(row)\n",
        "\n",
        "print(\"Matrix 1:\")\n",
        "for row in matrix1:\n",
        "    print(row)\n",
        "\n",
        "print(\"Matrix 2:\")\n",
        "for row in matrix2:\n",
        "    print(row)\n",
        "\n",
        "start_time_manual = t.time()\n",
        "result_matrix = []\n",
        "for i in range(n):\n",
        "    result_row = []\n",
        "    for j in range(m):\n",
        "        cell_value = 0\n",
        "        for z in range(k):\n",
        "            cell_value += matrix1[i][z] * matrix2[z][j]\n",
        "        result_row.append(cell_value)\n",
        "    result_matrix.append(result_row)\n",
        "end_time_manual = t.time()\n",
        "\n",
        "print(\"Resultant Matrix (Manual Multiplication):\")\n",
        "for row in result_matrix:\n",
        "    print(row)\n",
        "print(f\"Execution time (manual multiplication): {end_time_manual - start_time_manual} seconds\")\n",
        "matrix1_np = np.array(matrix1)\n",
        "matrix2_np = np.array(matrix2)\n",
        "\n",
        "start_time_numpy = t.time()\n",
        "result_matrix_np = np.dot(matrix1_np, matrix2_np)\n",
        "end_time_numpy = t.time()\n",
        "print(\"Resultant Matrix (NumPy Multiplication):\")\n",
        "print(result_matrix_np)\n",
        "print(f\"Execution time (NumPy multiplication): {end_time_numpy - start_time_numpy} seconds\")\n"
      ]
    },
    {
      "cell_type": "markdown",
      "id": "2204c621-7c74-4b9a-851d-ff47a51e5139",
      "metadata": {
        "id": "2204c621-7c74-4b9a-851d-ff47a51e5139"
      },
      "source": [
        "The execution time for matrix multiplication using NumPy arrays is shorter compared to using lists. This is because NumPy arrays utilize contiguous memory storage, meaning the data is stored in continuous blocks of memory. This allows for more efficient manipulation and faster access to the array elements. While both lists and NumPy arrays in this case are homogenous, NumPy arrays are inherently homogenous, which ensures they occupy less memory and offer faster performance than lists."
      ]
    },
    {
      "cell_type": "markdown",
      "id": "1885748b-9c28-4855-a39d-17c29e1ff604",
      "metadata": {
        "id": "1885748b-9c28-4855-a39d-17c29e1ff604"
      },
      "source": [
        "**Q3:**"
      ]
    },
    {
      "cell_type": "code",
      "execution_count": 6,
      "id": "93de69cb-ec2f-4533-b9d0-4211ca99f088",
      "metadata": {
        "colab": {
          "base_uri": "https://localhost:8080/"
        },
        "id": "93de69cb-ec2f-4533-b9d0-4211ca99f088",
        "outputId": "8af22cb3-a8d6-4c53-c838-6845f095dcd1"
      },
      "outputs": [
        {
          "output_type": "stream",
          "name": "stdout",
          "text": [
            "1,2,3,4,5,6,7,8,9,10,11,12,13,14,15,16,17,18,19,20,21,22,23,24,25\n",
            "13.0 execution time: 0.0015058517456054688 seconds\n",
            "13 execution time: 0.00038433074951171875 seconds\n",
            "13 execution time: 0.000423431396484375 seconds\n"
          ]
        }
      ],
      "source": [
        "import numpy as np\n",
        "import time as t\n",
        "\n",
        "def find_max(L):\n",
        "    max_val = L[0]\n",
        "    for i in L:\n",
        "        if i > max_val:\n",
        "            max_val = i\n",
        "    return max_val\n",
        "\n",
        "L = list(eval(input()))\n",
        "n = len(L)\n",
        "\n",
        "npL = np.array(L)\n",
        "start_time_np = t.time()\n",
        "median_np = np.median(npL)\n",
        "end_time_np = t.time()\n",
        "print(median_np, \"execution time:\", end_time_np - start_time_np, \"seconds\")\n",
        "\n",
        "start_time_sort = t.time()\n",
        "sorted_arr = np.sort(npL, kind='quicksort')\n",
        "if n % 2 == 0:\n",
        "    median_sort = (sorted_arr[n//2] + sorted_arr[n//2 - 1]) / 2\n",
        "else:\n",
        "    median_sort = sorted_arr[n//2]\n",
        "end_time_sort = t.time()\n",
        "print(median_sort, \"execution time:\", end_time_sort - start_time_sort, \"seconds\")\n",
        "\n",
        "median_max = 0\n",
        "start_time_max = t.time()\n",
        "if n % 2 == 0:\n",
        "    count = n\n",
        "    while count >= n//2:\n",
        "        max_val = find_max(L)\n",
        "        if count == n//2 + 1:\n",
        "            median_max += max_val\n",
        "        if count == n//2:\n",
        "            median_max += max_val\n",
        "        count -= 1\n",
        "        L.remove(max_val)\n",
        "    median_max /= 2\n",
        "else:\n",
        "    count = n\n",
        "    while count >= n//2 + 1:\n",
        "        max_val = find_max(L)\n",
        "        if count == n//2 + 1:\n",
        "            median_max = max_val\n",
        "        count -= 1\n",
        "        L.remove(max_val)\n",
        "end_time_max = t.time()\n",
        "print(median_max, \"execution time:\", end_time_max - start_time_max, \"seconds\")\n"
      ]
    },
    {
      "cell_type": "markdown",
      "id": "14f653de-2fb6-469e-aabd-bad44a788733",
      "metadata": {
        "id": "14f653de-2fb6-469e-aabd-bad44a788733"
      },
      "source": [
        "Sorting takes O(nlog(n)) time complexcity while the method mentioned in the question takes O(n^2) time complexcity\n"
      ]
    },
    {
      "cell_type": "markdown",
      "id": "8d93f023-7cf6-4c29-8fb1-5c1696e6ba71",
      "metadata": {
        "id": "8d93f023-7cf6-4c29-8fb1-5c1696e6ba71"
      },
      "source": [
        "**Q4:** The gradient of the function with respect to x and y is $(2xy + y^3cos(x))i + (x^2 + 3y^2sin(x))j$."
      ]
    },
    {
      "cell_type": "markdown",
      "id": "c5caf415-9db4-4272-8425-36552adfacf7",
      "metadata": {
        "id": "c5caf415-9db4-4272-8425-36552adfacf7"
      },
      "source": [
        "**Q5:**"
      ]
    },
    {
      "cell_type": "code",
      "execution_count": 8,
      "id": "552286e4-40c9-4478-a7f5-98bd9ba9abf6",
      "metadata": {
        "colab": {
          "base_uri": "https://localhost:8080/"
        },
        "id": "552286e4-40c9-4478-a7f5-98bd9ba9abf6",
        "outputId": "05200bd1-bd6e-43e2-d3b0-05d4833efcf3"
      },
      "outputs": [
        {
          "output_type": "stream",
          "name": "stdout",
          "text": [
            "Gradient values from JAX\n",
            "\n",
            "(2.540302276611328, 3.5244128704071045)\n",
            "(4.670825004577637, 14.911568641662598)\n",
            "(-8.72979736328125, 12.810239791870117)\n",
            "(-9.83319091796875, -20.326519012451172)\n",
            "(85.45777893066406, -46.91931915283203)\n",
            "\n",
            "Gradient values from my method\n",
            "\n",
            "(2.5403023058681398, 3.5244129544236893)\n",
            "(4.670825307622861, 14.91156912190818)\n",
            "(-8.729797408212026, 12.810240217616414)\n",
            "(-9.833191735271164, -20.32651977478055)\n",
            "(85.45777318290328, -46.919320599735386)\n"
          ]
        }
      ],
      "source": [
        "import jax\n",
        "import jax.numpy as jnp\n",
        "import math as m\n",
        "\n",
        "def f(x, y):\n",
        "    return x**2 * y + y**3 * jnp.sin(x)\n",
        "\n",
        "def fun(x, y):\n",
        "    return 2*x*y + y**3 * m.cos(x), x**2 + 3*y**2 * m.sin(x)\n",
        "\n",
        "grad_f = jax.grad(f, argnums=(0, 1))\n",
        "x_vals = [1.0, 2.0, 3.0, 4.0, 5.0]\n",
        "y_vals = [1.0, 2.0, 3.0, 4.0, 5.0]\n",
        "\n",
        "print(\"Gradient values from JAX\\n\")\n",
        "for i in range(5):\n",
        "    dx, dy = grad_f(x_vals[i], y_vals[i])\n",
        "    print(f\"({dx}, {dy})\")\n",
        "\n",
        "print(\"\\nGradient values from my method\\n\")\n",
        "for i in range(5):\n",
        "    dx, dy = fun(x_vals[i], y_vals[i])\n",
        "    print(f\"({dx}, {dy})\")\n"
      ]
    },
    {
      "cell_type": "markdown",
      "id": "35e7d2e5-e520-408b-b0ca-d1129cd5781b",
      "metadata": {
        "id": "35e7d2e5-e520-408b-b0ca-d1129cd5781b"
      },
      "source": [
        "**Q6**"
      ]
    },
    {
      "cell_type": "code",
      "execution_count": 9,
      "id": "c2d6bf87-adbe-4ccb-9010-a7f5b0255390",
      "metadata": {
        "colab": {
          "base_uri": "https://localhost:8080/"
        },
        "id": "c2d6bf87-adbe-4ccb-9010-a7f5b0255390",
        "outputId": "8b144e30-8370-493d-8704-8a3976a323bd"
      },
      "outputs": [
        {
          "output_type": "stream",
          "name": "stdout",
          "text": [
            "Gradient of the function: (2*x*y + y**3*cos(x), x**2 + 3*y**2*sin(x))\n"
          ]
        }
      ],
      "source": [
        "from sympy import symbols, diff, sin\n",
        "\n",
        "x, y = symbols('x y')\n",
        "function = x**2 * y + y**3 * sin(x)\n",
        "gradient = (diff(function, x), diff(function, y))\n",
        "\n",
        "print(\"Gradient of the function:\", gradient)\n"
      ]
    },
    {
      "cell_type": "markdown",
      "id": "21b78676-0cb8-45dd-9ccd-a3eccc3e22e2",
      "metadata": {
        "id": "21b78676-0cb8-45dd-9ccd-a3eccc3e22e2"
      },
      "source": [
        "**Q7**"
      ]
    },
    {
      "cell_type": "code",
      "execution_count": 10,
      "id": "1dcb1702-7062-44ef-8e13-03ede02b27ba",
      "metadata": {
        "colab": {
          "base_uri": "https://localhost:8080/"
        },
        "id": "1dcb1702-7062-44ef-8e13-03ede02b27ba",
        "outputId": "f67c926b-30d6-4b07-e352-b43d4eb8766a"
      },
      "outputs": [
        {
          "output_type": "stream",
          "name": "stdout",
          "text": [
            "Year: 2022\n",
            "Branch: cse\n",
            "Roll No: 260\n",
            "Name: vamsi\n",
            "Subject: ML\n",
            "Marks: 100\n",
            "Continue with subjects (y/n)? y\n",
            "Subject: maths\n",
            "Marks: 100\n",
            "Continue with subjects (y/n)? n\n",
            "Continue with students (y/n)? y\n",
            "Roll No: 259\n",
            "Name: rangan\n",
            "Subject: vibrations\n",
            "Marks: 13\n",
            "Continue with subjects (y/n)? y\n",
            "Subject: ML\n",
            "Marks: 99\n",
            "Continue with subjects (y/n)? n\n",
            "Continue with students (y/n)? n\n",
            "Continue with branches (y/n)? n\n",
            "Continue with years (y/n)? n\n",
            "{2022: {'cse': {260: {'Roll No': 260, 'Name': 'vamsi', 'Marks': {'ML': 100.0, 'maths': 100.0}}, 259: {'Roll No': 259, 'Name': 'rangan', 'Marks': {'vibrations': 13.0, 'ML': 99.0}}}}}\n"
          ]
        }
      ],
      "source": [
        "data = {}\n",
        "continue_year = \"y\"\n",
        "\n",
        "while continue_year == \"y\":\n",
        "    year = int(input(\"Year: \"))\n",
        "    branches = {}\n",
        "    continue_branch = \"y\"\n",
        "\n",
        "    while continue_branch == \"y\":\n",
        "        branch = input(\"Branch: \")\n",
        "        students = {}\n",
        "        continue_student = \"y\"\n",
        "\n",
        "        while continue_student == \"y\":\n",
        "            roll_no = int(input(\"Roll No: \"))\n",
        "            name = input(\"Name: \")\n",
        "            marks = {}\n",
        "            continue_subject = \"y\"\n",
        "\n",
        "            while continue_subject == \"y\":\n",
        "                subject = input(\"Subject: \")\n",
        "                marks[subject] = float(input(\"Marks: \"))\n",
        "                continue_subject = input(\"Continue with subjects (y/n)? \")\n",
        "\n",
        "            students[roll_no] = {\"Roll No\": roll_no, \"Name\": name, \"Marks\": marks}\n",
        "            continue_student = input(\"Continue with students (y/n)? \")\n",
        "\n",
        "        branches[branch] = students\n",
        "        continue_branch = input(\"Continue with branches (y/n)? \")\n",
        "\n",
        "    data[year] = branches\n",
        "    continue_year = input(\"Continue with years (y/n)? \")\n",
        "\n",
        "print(data)\n"
      ]
    },
    {
      "cell_type": "markdown",
      "id": "f725f6c2-0323-4a55-b53c-666d6c7ae0a3",
      "metadata": {
        "id": "f725f6c2-0323-4a55-b53c-666d6c7ae0a3"
      },
      "source": [
        "**Q8**"
      ]
    },
    {
      "cell_type": "code",
      "execution_count": 11,
      "id": "eb9d4b50-104f-4592-a4fa-bc526bf7544f",
      "metadata": {
        "colab": {
          "base_uri": "https://localhost:8080/"
        },
        "id": "eb9d4b50-104f-4592-a4fa-bc526bf7544f",
        "outputId": "19915688-9036-43ac-ca0f-3004d837f73f"
      },
      "outputs": [
        {
          "output_type": "stream",
          "name": "stdout",
          "text": [
            "Classroom: 3rd year\n",
            "Year: 2022\n",
            "Branch: CSE\n",
            "Student: Vamsi\n",
            "Subject: ML, Marks: 100\n"
          ]
        }
      ],
      "source": [
        "class SchoolClass:\n",
        "    def __init__(self, classroom):\n",
        "        self.classroom = classroom\n",
        "        self.years = []\n",
        "\n",
        "    class Year:\n",
        "        def __init__(self, year):\n",
        "            self.year = year\n",
        "            self.branches = []\n",
        "\n",
        "        class Branch:\n",
        "            def __init__(self, branch):\n",
        "                self.branch = branch\n",
        "                self.students = []\n",
        "\n",
        "            class Student:\n",
        "                def __init__(self, name):\n",
        "                    self.name = name\n",
        "                    self.subjects = []\n",
        "\n",
        "                class Subject:\n",
        "                    def __init__(self, subject, marks):\n",
        "                        self.subject = subject\n",
        "                        self.marks = marks\n",
        "\n",
        "classroom = SchoolClass('3rd year')\n",
        "year = SchoolClass.Year('2022')\n",
        "branch = SchoolClass.Year.Branch('CSE')\n",
        "student = SchoolClass.Year.Branch.Student('Vamsi')\n",
        "subject = SchoolClass.Year.Branch.Student.Subject('ML', 100)\n",
        "\n",
        "student.subjects.append(subject)\n",
        "branch.students.append(student)\n",
        "year.branches.append(branch)\n",
        "classroom.years.append(year)\n",
        "\n",
        "print(f\"Classroom: {classroom.classroom}\")\n",
        "print(f\"Year: {year.year}\")\n",
        "print(f\"Branch: {branch.branch}\")\n",
        "print(f\"Student: {student.name}\")\n",
        "print(f\"Subject: {subject.subject}, Marks: {subject.marks}\")\n"
      ]
    },
    {
      "cell_type": "markdown",
      "id": "cd5537a3-ce04-4f17-bce7-4bd23ca59016",
      "metadata": {
        "id": "cd5537a3-ce04-4f17-bce7-4bd23ca59016"
      },
      "source": [
        "**Q9:**"
      ]
    },
    {
      "cell_type": "code",
      "execution_count": 12,
      "id": "f08f637d-3078-4994-8788-82e1c02b90ec",
      "metadata": {
        "colab": {
          "base_uri": "https://localhost:8080/",
          "height": 452
        },
        "id": "f08f637d-3078-4994-8788-82e1c02b90ec",
        "outputId": "d072e0d5-1665-4e29-fd67-5767b9bf5e3e"
      },
      "outputs": [
        {
          "output_type": "display_data",
          "data": {
            "text/plain": [
              "<Figure size 640x480 with 7 Axes>"
            ],
            "image/png": "[encoded data removed]"
          },
          "metadata": {}
        }
      ],
      "source": [
        "import matplotlib.pyplot as plt\n",
        "import numpy as np\n",
        "\n",
        "def f1(x):\n",
        "    return x\n",
        "def f2(x):\n",
        "\treturn x**2\n",
        "def f3(x):\n",
        "\treturn (x**3)/100\n",
        "def f4(x):\n",
        "\treturn np.sin(x)\n",
        "def f5(x):\n",
        "\treturn np.sin(x)/x\n",
        "def f6(x):\n",
        "\treturn np.log10(x)\n",
        "def f7(x):\n",
        "\treturn np.exp(x)\n",
        "\n",
        "x = np.linspace(0.5, 100, 199)\n",
        "y1 = f1(x)\n",
        "y2 = f2(x)\n",
        "y3 = f3(x)\n",
        "y4 = f4(x)\n",
        "y5 = f5(x)\n",
        "y6 = f6(x)\n",
        "y7 = f7(x)\n",
        "\n",
        "fig, axs = plt.subplots(7)\n",
        "axs[0].plot(x, y1)\n",
        "axs[0].set_title('1')\n",
        "axs[1].plot(x, y2)\n",
        "axs[1].set_title('2')\n",
        "axs[2].plot(x, y3)\n",
        "axs[2].set_title('3')\n",
        "axs[3].plot(x, y4)\n",
        "axs[3].set_title('4')\n",
        "axs[4].plot(x, y5)\n",
        "axs[4].set_title('5')\n",
        "axs[5].plot(x, y6)\n",
        "axs[5].set_title('6')\n",
        "axs[6].plot(x, y7)\n",
        "axs[6].set_title('7')\n",
        "plt.show()"
      ]
    },
    {
      "cell_type": "markdown",
      "id": "c86a6007-472e-49b3-b9c6-36fb76efdb53",
      "metadata": {
        "id": "c86a6007-472e-49b3-b9c6-36fb76efdb53"
      },
      "source": [
        "**Q10:**"
      ]
    },
    {
      "cell_type": "code",
      "execution_count": 13,
      "id": "edbd18fd-4495-496c-9502-cd6074d8b4d6",
      "metadata": {
        "colab": {
          "base_uri": "https://localhost:8080/"
        },
        "id": "edbd18fd-4495-496c-9502-cd6074d8b4d6",
        "outputId": "a78a6410-db49-43b8-f1df-765fb70e7522"
      },
      "outputs": [
        {
          "output_type": "stream",
          "name": "stdout",
          "text": [
            "The column with the highest standard deviation is: e\n",
            "The row with the lowest mean is: 4\n"
          ]
        }
      ],
      "source": [
        "import numpy as np\n",
        "import pandas as pd\n",
        "\n",
        "arr = np.random.uniform(1, 2, (20, 5))\n",
        "df = pd.DataFrame(arr, columns=['a', 'b', 'c', 'd', 'e'])\n",
        "\n",
        "std_d = df.std()\n",
        "M_col = std_d.idxmax()\n",
        "\n",
        "mea = df.mean(axis=1)\n",
        "m_row = mea.idxmin()\n",
        "\n",
        "print(f\"The column with the highest standard deviation is: {M_col}\")\n",
        "print(f\"The row with the lowest mean is: {m_row}\")\n"
      ]
    },
    {
      "cell_type": "markdown",
      "id": "3f71a2f9-ba13-40fb-9dc3-720cdcb0a4d8",
      "metadata": {
        "id": "3f71a2f9-ba13-40fb-9dc3-720cdcb0a4d8"
      },
      "source": [
        "**Q11:**"
      ]
    },
    {
      "cell_type": "code",
      "execution_count": 14,
      "id": "88c01100-fca8-4044-8aa8-91e5b060e931",
      "metadata": {
        "colab": {
          "base_uri": "https://localhost:8080/"
        },
        "id": "88c01100-fca8-4044-8aa8-91e5b060e931",
        "outputId": "901d75da-7f1f-4484-c59f-dd04bcb58277"
      },
      "outputs": [
        {
          "output_type": "stream",
          "name": "stdout",
          "text": [
            "The no: of rows where the value in the column 'g' is 'LT8':  13\n",
            "The std of the col. 'f' where the value in the column 'g' is 'LT8':  0.3479708211487448\n",
            "The std of the col. 'f' where the value in the column 'g' is 'GT8':  0.37962633937747964\n"
          ]
        }
      ],
      "source": [
        "import numpy as np\n",
        "import pandas as pd\n",
        "\n",
        "df['f'] = df[['a', 'b', 'c', 'd', 'e']].sum(axis=1)\n",
        "\n",
        "df['g'] = np.where(df['f'] < 8, 'LT8', 'GT8')\n",
        "\n",
        "n_LT8 = df[df['g'] == 'LT8'].shape[0]\n",
        "\n",
        "st_LT8 = df[df['g'] == 'LT8']['f'].std()\n",
        "st_GT8 = df[df['g'] == 'GT8']['f'].std()\n",
        "\n",
        "print(\"The no: of rows where the value in the column 'g' is 'LT8': \", n_LT8)\n",
        "print(\"The std of the col. 'f' where the value in the column 'g' is 'LT8': \", st_LT8)\n",
        "print(\"The std of the col. 'f' where the value in the column 'g' is 'GT8': \", st_GT8)\n"
      ]
    },
    {
      "cell_type": "markdown",
      "id": "3889a48c-9e91-43d3-99b5-a22320f4f8c6",
      "metadata": {
        "id": "3889a48c-9e91-43d3-99b5-a22320f4f8c6"
      },
      "source": [
        "**Q12:**"
      ]
    },
    {
      "cell_type": "code",
      "execution_count": 15,
      "id": "868d7432-51d7-4e03-8539-cf4651288657",
      "metadata": {
        "colab": {
          "base_uri": "https://localhost:8080/"
        },
        "id": "868d7432-51d7-4e03-8539-cf4651288657",
        "outputId": "356ed88b-af07-41c2-941e-947f66c6db0a"
      },
      "outputs": [
        {
          "output_type": "stream",
          "name": "stdout",
          "text": [
            "(2, 3) (1,)\n",
            "After broadcasting y over x and the z is: \n",
            " [[ 5  6  7]\n",
            " [ 8  9 10]]\n"
          ]
        }
      ],
      "source": [
        "import numpy as np\n",
        "x = np.array([[1, 2, 3], [4, 5, 6]])\n",
        "y = np.array([4])\n",
        "print(np.shape(x),np.shape(y))\n",
        "z = x + y\n",
        "print(\"After broadcasting y over x and the z is: \\n\",z)\n"
      ]
    },
    {
      "cell_type": "code",
      "source": [],
      "metadata": {
        "id": "o9MjWslyiq9p"
      },
      "id": "o9MjWslyiq9p",
      "execution_count": null,
      "outputs": []
    },
    {
      "cell_type": "markdown",
      "id": "66b9e4c5-3d88-421d-8fd8-718d4fe0d54d",
      "metadata": {
        "id": "66b9e4c5-3d88-421d-8fd8-718d4fe0d54d"
      },
      "source": [
        "**Q13:**"
      ]
    },
    {
      "cell_type": "code",
      "execution_count": 18,
      "id": "0084159d-e39a-4f22-b762-67531adf36d6",
      "metadata": {
        "colab": {
          "base_uri": "https://localhost:8080/"
        },
        "id": "0084159d-e39a-4f22-b762-67531adf36d6",
        "outputId": "84c94d52-54fc-42b5-88fd-634f7da33212"
      },
      "outputs": [
        {
          "output_type": "stream",
          "name": "stdout",
          "text": [
            "1,2,4,0,-3,-2,1,3\n",
            "The index of minimum value is:  4\n",
            "verified.\n"
          ]
        }
      ],
      "source": [
        "import numpy as np\n",
        "\n",
        "def min_arg(arr):\n",
        "    mvalue = arr[0]\n",
        "    mindex = 0\n",
        "    for i in range(1, len(arr)):\n",
        "        if arr[i] < mvalue:\n",
        "            mvalue = arr[i]\n",
        "            mindex = i\n",
        "    return mindex\n",
        "\n",
        "arr = list(eval(input()))\n",
        "arr = np.array(arr)\n",
        "m = min_arg(arr)\n",
        "print(\"The index of minimum value is: \",m)\n",
        "if np.argmin(arr) == m:\n",
        "\tprint(\"verified.\")\n",
        "else:\n",
        "\tprint(\"The code is incorrect.\")"
      ]
    },
    {
      "cell_type": "code",
      "execution_count": null,
      "id": "3d99f488-93d5-4219-9557-729965f84f03",
      "metadata": {
        "id": "3d99f488-93d5-4219-9557-729965f84f03"
      },
      "outputs": [],
      "source": []
    }
  ],
  "metadata": {
    "kernelspec": {
      "display_name": "Python 3 (ipykernel)",
      "language": "python",
      "name": "python3"
    },
    "language_info": {
      "codemirror_mode": {
        "name": "ipython",
        "version": 3
      },
      "file_extension": ".py",
      "mimetype": "text/x-python",
      "name": "python",
      "nbconvert_exporter": "python",
      "pygments_lexer": "ipython3",
      "version": "3.12.0"
    },
    "colab": {
      "provenance": []
    }
  },
  "nbformat": 4,
  "nbformat_minor": 5
}